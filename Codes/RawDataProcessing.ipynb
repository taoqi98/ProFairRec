{
 "cells": [
  {
   "cell_type": "code",
   "execution_count": 2,
   "metadata": {},
   "outputs": [],
   "source": [
    "import os"
   ]
  },
  {
   "cell_type": "code",
   "execution_count": 3,
   "metadata": {},
   "outputs": [],
   "source": [
    "data_root_path = None"
   ]
  },
  {
   "cell_type": "code",
   "execution_count": 10,
   "metadata": {},
   "outputs": [],
   "source": [
    "news = {}\n",
    "merged_lines = []\n",
    "for path in ['MINDlarge_train','MINDlarge_dev','MINDlarge_test']:\n",
    "    \n",
    "    with open(os.path.join(data_root_path,path,'news.tsv')) as f:\n",
    "        lines = f.readlines()\n",
    "    for i in range(len(lines)):\n",
    "        nid = lines[i].strip('\\n').split('\\t')[0]\n",
    "        if nid in news:\n",
    "            continue\n",
    "        news[nid] = 1\n",
    "        merged_lines.append(lines[i])"
   ]
  },
  {
   "cell_type": "code",
   "execution_count": null,
   "metadata": {},
   "outputs": [],
   "source": []
  },
  {
   "cell_type": "code",
   "execution_count": 64,
   "metadata": {},
   "outputs": [],
   "source": [
    "with open(os.path.join(data_root_path,'docs.tsv'),'w') as f:\n",
    "    for i in range(len(merged_lines)):\n",
    "        f.write(merged_lines[i])"
   ]
  },
  {
   "cell_type": "code",
   "execution_count": null,
   "metadata": {},
   "outputs": [],
   "source": []
  },
  {
   "cell_type": "code",
   "execution_count": null,
   "metadata": {},
   "outputs": [],
   "source": []
  },
  {
   "cell_type": "code",
   "execution_count": 59,
   "metadata": {},
   "outputs": [],
   "source": [
    "users = {}\n",
    "news_click = {nid:0 for nid in news}\n",
    "with open(os.path.join(data_root_path,'MINDlarge_train','behaviors.tsv')) as f:\n",
    "    lines = f.readlines()\n",
    "for i in range(len(lines)):\n",
    "    _,uid,_,history,impression = lines[i].strip('\\n').split('\\t')\n",
    "    \n",
    "    for v in impression.split():\n",
    "        nid, clk = v.split('-')\n",
    "        if clk == '1':\n",
    "            news_click[nid] += 1\n",
    "            \n",
    "    if uid in users:\n",
    "        continue\n",
    "    users[uid] = 1\n",
    "            \n",
    "    history = history.split()\n",
    "    for nid in history:\n",
    "        news_click[nid] += 1\n"
   ]
  },
  {
   "cell_type": "code",
   "execution_count": 60,
   "metadata": {},
   "outputs": [],
   "source": [
    "with open(os.path.join(data_root_path,'MINDlarge_dev','behaviors.tsv')) as f:\n",
    "    lines = f.readlines()\n",
    "for i in range(len(lines)):\n",
    "    _,uid,_,history,impression = lines[i].strip('\\n').split('\\t')\n",
    "\n",
    "    for v in impression.split():\n",
    "        nid, clk = v.split('-')\n",
    "        if clk == '1':\n",
    "            news_click[nid] += 1\n",
    "            \n",
    "    if uid in users:\n",
    "        continue\n",
    "    users[uid] = 1\n",
    "            \n",
    "    history = history.split()\n",
    "    for nid in history:\n",
    "        news_click[nid] += 1"
   ]
  },
  {
   "cell_type": "code",
   "execution_count": null,
   "metadata": {},
   "outputs": [],
   "source": []
  },
  {
   "cell_type": "code",
   "execution_count": 54,
   "metadata": {},
   "outputs": [],
   "source": [
    "with open('/data/qit16/MIND-Large-Release/news_click_release.json','w') as f:\n",
    "    json.dump(news_click,f)"
   ]
  },
  {
   "cell_type": "code",
   "execution_count": null,
   "metadata": {},
   "outputs": [],
   "source": []
  }
 ],
 "metadata": {
  "kernelspec": {
   "display_name": "Python 3",
   "language": "python",
   "name": "python3"
  },
  "language_info": {
   "codemirror_mode": {
    "name": "ipython",
    "version": 3
   },
   "file_extension": ".py",
   "mimetype": "text/x-python",
   "name": "python",
   "nbconvert_exporter": "python",
   "pygments_lexer": "ipython3",
   "version": "3.6.7"
  }
 },
 "nbformat": 4,
 "nbformat_minor": 4
}
